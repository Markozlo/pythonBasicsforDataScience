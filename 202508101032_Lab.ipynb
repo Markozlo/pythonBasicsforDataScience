{
 "cells": [
  {
   "cell_type": "markdown",
   "id": "286f5fae-1e95-45f2-b60c-2c00c35e9323",
   "metadata": {},
   "source": [
    "<center>\n",
    "    <img src=\"https://cf-courses-data.s3.us.cloud-object-storage.appdomain.cloud/IBMDeveloperSkillsNetwork-PY0101EN-SkillsNetwork/IDSNlogo.png\" width=\"300\" alt=\"cognitiveclass.ai logo\">\n",
    "</center>\n",
    "\n",
    "# String Operations\n",
    "\n",
    "Estimated time needed: **30** minutes.\n",
    "\n",
    "## Objectives\n",
    "\n",
    "After completing this lab you will be able to:\n",
    "\n",
    "*   Work with Strings\n",
    "*   Perform operations on String\n",
    "*   Manipulate Strings using indexing and escape sequences\n"
   ]
  },
  {
   "cell_type": "markdown",
   "id": "840f2f2d-fbcb-4a76-887f-3400ddcfea6f",
   "metadata": {},
   "source": [
    "<h2>Table of Contents</h2>\n",
    "<div class=\"alert alert-block alert-info\" style=\"margin-top: 20px\">\n",
    "    <ul>\n",
    "        <li>\n",
    "            <a href=\"#What-are-Strings?\">What are Strings?</a>\n",
    "        </li>\n",
    "        <li>\n",
    "            <a href=\"#Indexing\">Indexing</a>\n",
    "            <ul>\n",
    "                <li><a href=\"#Negative-Indexing\">Negative Indexing</a></li>\n",
    "                <li><a href=\"#Slicing\">Slicing</a></li>\n",
    "                <li><a href=\"#Stride\">Stride</a></li>\n",
    "                <li><a href=\"#Concatenate-Strings\">Concatenate Strings</a></li>\n",
    "            </ul>\n",
    "        </li>\n",
    "        <li>\n",
    "            <a href=\"#Escape-Sequences\">Escape Sequences</a>\n",
    "        </li>\n",
    "        <li>\n",
    "            <a href=\"#String-Manipulation-Operations\">String Manipulation Operations</a>\n",
    "        </li>\n",
    "        <li>\n",
    "            <a href=\"#Quiz-on-Strings\">Quiz on Strings</a>\n",
    "        </li>\n",
    "    </ul>\n",
    "\n",
    "</div>\n",
    "\n",
    "<hr>\n"
   ]
  },
  {
   "cell_type": "markdown",
   "id": "87d791da-358d-4302-a959-b1c943e43b5a",
   "metadata": {},
   "source": [
    "## What are Strings?\n"
   ]
  },
  {
   "cell_type": "markdown",
   "id": "08688152-5844-4384-b99a-72fefc753988",
   "metadata": {},
   "source": [
    "The following example shows a string contained within 2 quotation marks:\n"
   ]
  },
  {
   "cell_type": "code",
   "execution_count": 2,
   "id": "5590f76d-2085-4142-aa3b-0d81768bf506",
   "metadata": {},
   "outputs": [
    {
     "data": {
      "text/plain": [
       "'The BodyGuard'"
      ]
     },
     "execution_count": 2,
     "metadata": {},
     "output_type": "execute_result"
    }
   ],
   "source": [
    "# Use quotation marks for defining string\n",
    "\n",
    "\"The BodyGuard\""
   ]
  },
  {
   "cell_type": "markdown",
   "id": "be603f22-9347-41f9-8b25-e735a4637729",
   "metadata": {},
   "source": [
    "We can also use single quotation marks:\n"
   ]
  },
  {
   "cell_type": "code",
   "execution_count": 1,
   "id": "804f39dc-51e1-4ad9-9230-efdb37299ac0",
   "metadata": {},
   "outputs": [
    {
     "data": {
      "text/plain": [
       "'The BodyGuard'"
      ]
     },
     "execution_count": 1,
     "metadata": {},
     "output_type": "execute_result"
    }
   ],
   "source": [
    "# Use single quotation marks for defining string\n",
    "\n",
    "'The BodyGuard'"
   ]
  },
  {
   "cell_type": "markdown",
   "id": "1b721e67-9627-41fb-849e-0fe67273865e",
   "metadata": {},
   "source": [
    "A string can be a combination of spaces and digits:\n"
   ]
  },
  {
   "cell_type": "code",
   "execution_count": 3,
   "id": "b2ea6e31-0283-439f-8c1b-ed8b153e486c",
   "metadata": {},
   "outputs": [
    {
     "data": {
      "text/plain": [
       "'1 2 3 4 5 6 '"
      ]
     },
     "execution_count": 3,
     "metadata": {},
     "output_type": "execute_result"
    }
   ],
   "source": [
    "# Digitals and spaces in string\n",
    "\n",
    "'1 2 3 4 5 6 '"
   ]
  },
  {
   "cell_type": "markdown",
   "id": "7fee4911-1b61-4320-8655-37cda0d421b6",
   "metadata": {},
   "source": [
    "A string can also be a combination of special characters :\n"
   ]
  },
  {
   "cell_type": "code",
   "execution_count": 4,
   "id": "701dec5d-e19b-42cb-b801-80ce1e55db03",
   "metadata": {},
   "outputs": [
    {
     "data": {
      "text/plain": [
       "'@#2_#]&*^%$'"
      ]
     },
     "execution_count": 4,
     "metadata": {},
     "output_type": "execute_result"
    }
   ],
   "source": [
    "# Special characters in string\n",
    "\n",
    "'@#2_#]&*^%$'"
   ]
  },
  {
   "cell_type": "markdown",
   "id": "297c6735-1777-4aa4-a90e-729b629fa228",
   "metadata": {},
   "source": [
    "We can print our string using the print statement:\n"
   ]
  },
  {
   "cell_type": "code",
   "execution_count": 5,
   "id": "923dd4e8-2413-492d-a3ae-dec2356edac3",
   "metadata": {},
   "outputs": [
    {
     "name": "stdout",
     "output_type": "stream",
     "text": [
      "hello!\n"
     ]
    }
   ],
   "source": [
    "# Print the string\n",
    "\n",
    "print(\"hello!\")"
   ]
  },
  {
   "cell_type": "markdown",
   "id": "08163445-4049-4d83-8832-617c8fdff182",
   "metadata": {},
   "source": [
    "We can bind or assign a string to another variable:\n"
   ]
  },
  {
   "cell_type": "code",
   "execution_count": 6,
   "id": "944c9592-ab84-44a8-a72f-fb1289f4ca2e",
   "metadata": {},
   "outputs": [
    {
     "data": {
      "text/plain": [
       "'The BodyGuard'"
      ]
     },
     "execution_count": 6,
     "metadata": {},
     "output_type": "execute_result"
    }
   ],
   "source": [
    "# Assign string to variable\n",
    "\n",
    "name = \"The BodyGuard\"\n",
    "name"
   ]
  },
  {
   "cell_type": "markdown",
   "id": "d282dce4-c648-4a62-916b-6a449ae51bd5",
   "metadata": {},
   "source": [
    "<hr>\n"
   ]
  },
  {
   "cell_type": "markdown",
   "id": "f7957376-8ca1-49d4-a07d-1c501b222b2c",
   "metadata": {},
   "source": [
    "## Indexing\n"
   ]
  },
  {
   "cell_type": "markdown",
   "id": "38d7815a-7276-49d7-ae9b-b1b290747309",
   "metadata": {},
   "source": [
    "It is helpful to think of a string as an ordered sequence. Each element in the sequence can be accessed using an index represented by the array of numbers:\n"
   ]
  },
  {
   "cell_type": "markdown",
   "id": "ec06ad33-1ef6-47aa-b1b9-a8bf1f5cf190",
   "metadata": {},
   "source": [
    "<img src=\"https://cf-courses-data.s3.us.cloud-object-storage.appdomain.cloud/xwKqWxQWBL47h718d3BLzw/IMG1.png\" width=\"600\" align=\"center\">\n"
   ]
  },
  {
   "cell_type": "markdown",
   "id": "33e27f37-fb65-4b4d-af9d-21ed534f1275",
   "metadata": {},
   "source": [
    "The first index can be accessed as follows:\n"
   ]
  },
  {
   "cell_type": "markdown",
   "id": "a504944d-6853-4c7d-a5ec-6920b108d7ab",
   "metadata": {},
   "source": [
    "<hr/>\n",
    "<div class=\"alert alert-success alertsuccess\" style=\"margin-top: 20px\">\n",
    "[Tip]: Because indexing starts at 0, it means the first index is on the index 0.\n",
    "</div>\n",
    "<hr/>\n"
   ]
  },
  {
   "cell_type": "code",
   "execution_count": 7,
   "id": "75a9b286-6290-43ef-a230-1c9928459d6d",
   "metadata": {},
   "outputs": [
    {
     "name": "stdout",
     "output_type": "stream",
     "text": [
      "T\n"
     ]
    }
   ],
   "source": [
    "# Print the first element in the string\n",
    "\n",
    "print(name[0])"
   ]
  },
  {
   "cell_type": "markdown",
   "id": "1efb2c0f-eb59-4d8b-9d2a-5696cae707fa",
   "metadata": {},
   "source": [
    "We can access index 6:\n"
   ]
  },
  {
   "cell_type": "code",
   "execution_count": 8,
   "id": "9bcfb1d1-ab12-40f0-8b97-f453677735b7",
   "metadata": {},
   "outputs": [
    {
     "name": "stdout",
     "output_type": "stream",
     "text": [
      "d\n"
     ]
    }
   ],
   "source": [
    "# Print the element on index 6 in the string\n",
    "\n",
    "print(name[6])"
   ]
  },
  {
   "cell_type": "markdown",
   "id": "a5b4c360-0faf-4d58-941d-c92e2119d66e",
   "metadata": {},
   "source": [
    "Moreover, we can access the 10th index:\n"
   ]
  },
  {
   "cell_type": "code",
   "execution_count": 9,
   "id": "9510b84c-a020-4a58-a85d-9962b8e6cdaa",
   "metadata": {},
   "outputs": [
    {
     "name": "stdout",
     "output_type": "stream",
     "text": [
      "a\n"
     ]
    }
   ],
   "source": [
    "# Print the element on the 10th index in the string\n",
    "\n",
    "print(name[10])"
   ]
  },
  {
   "cell_type": "markdown",
   "id": "92818e03-b4dd-407e-9289-cb98312a7c8f",
   "metadata": {},
   "source": [
    "### Negative Indexing\n"
   ]
  },
  {
   "cell_type": "markdown",
   "id": "3db0a2ae-8883-491f-82b9-11136a48c06a",
   "metadata": {},
   "source": [
    "We can also use negative indexing with strings:\n"
   ]
  },
  {
   "cell_type": "markdown",
   "id": "cbc254be-93d0-42f0-872a-1f162dee9072",
   "metadata": {},
   "source": [
    "<img src=\"https://cf-courses-data.s3.us.cloud-object-storage.appdomain.cloud/VAdKOVUWpsM7hC7CjWmEdQ/IMG2.png\" width=\"600\" align=\"center\">\n"
   ]
  },
  {
   "cell_type": "markdown",
   "id": "a0a411ff-962d-449a-96a5-9b52e8a327da",
   "metadata": {},
   "source": [
    "Negative index can help us to count the element from the end of the string.\n"
   ]
  },
  {
   "cell_type": "markdown",
   "id": "0beb9270-f29a-499c-b4bf-04493b018f8a",
   "metadata": {},
   "source": [
    "The last element is given by the index -1:\n"
   ]
  },
  {
   "cell_type": "code",
   "execution_count": 10,
   "id": "4ab426f6-9f6e-45b0-9988-4643f46f63c3",
   "metadata": {},
   "outputs": [
    {
     "name": "stdout",
     "output_type": "stream",
     "text": [
      "d\n"
     ]
    }
   ],
   "source": [
    "# Print the last element in the string\n",
    "\n",
    "print(name[-1])"
   ]
  },
  {
   "cell_type": "markdown",
   "id": "16a9ffa4-5a80-48c2-9c19-ef58a947185d",
   "metadata": {},
   "source": [
    "The first element can be obtained by  index -13:\n"
   ]
  },
  {
   "cell_type": "code",
   "execution_count": 11,
   "id": "5d6db2a3-214c-47cf-b19d-318a6088e54e",
   "metadata": {},
   "outputs": [
    {
     "name": "stdout",
     "output_type": "stream",
     "text": [
      "T\n"
     ]
    }
   ],
   "source": [
    "# Print the first element in the string\n",
    "\n",
    "print(name[-13])"
   ]
  },
  {
   "cell_type": "markdown",
   "id": "028daeac-a56f-4107-a6d5-bb1aece95544",
   "metadata": {},
   "source": [
    "We can find the number of characters in a string by using <code>len</code>, short for length:\n"
   ]
  },
  {
   "cell_type": "code",
   "execution_count": 12,
   "id": "a9cf0326-e3d2-4b0c-9580-055989c2b60b",
   "metadata": {},
   "outputs": [
    {
     "data": {
      "text/plain": [
       "13"
      ]
     },
     "execution_count": 12,
     "metadata": {},
     "output_type": "execute_result"
    }
   ],
   "source": [
    "# Find the length of string\n",
    "\n",
    "len(\"The BodyGuard\")"
   ]
  },
  {
   "cell_type": "markdown",
   "id": "09c58e4d-3614-4cbd-8a71-4e4ce6fce2a3",
   "metadata": {},
   "source": [
    "### Slicing\n"
   ]
  },
  {
   "cell_type": "markdown",
   "id": "c2c9cda1-318e-443a-9146-d9f26cad0aa7",
   "metadata": {},
   "source": [
    "We can obtain multiple characters from a string using slicing, we can obtain the 0 to 4th and 8th to the 12th element:\n"
   ]
  },
  {
   "cell_type": "markdown",
   "id": "bd004027-e933-46f3-bae3-fe74f0f5e4fc",
   "metadata": {},
   "source": [
    "<img src=\"https://cf-courses-data.s3.us.cloud-object-storage.appdomain.cloud/Ph9xvvIvaf-krPI-qoaZ2Q/IMG3.png\" width=\"600\" align=\"center\">\n"
   ]
  },
  {
   "cell_type": "markdown",
   "id": "ce9b26ee-fa57-412a-9efa-05c131f7cda5",
   "metadata": {},
   "source": [
    "<hr/>\n",
    "<div class=\"alert alert-success alertsuccess\" style=\"margin-top: 20px\">\n",
    "[Tip]: When taking the slice, the first number means the index (start at 0), and the second number means the length from the index to the last element you want (start at 1)\n",
    "</div>\n",
    "<hr/>\n"
   ]
  },
  {
   "cell_type": "code",
   "execution_count": 13,
   "id": "e1b90fbd-36a5-42a7-b764-dd053c450371",
   "metadata": {},
   "outputs": [
    {
     "data": {
      "text/plain": [
       "'The '"
      ]
     },
     "execution_count": 13,
     "metadata": {},
     "output_type": "execute_result"
    }
   ],
   "source": [
    "# Take the slice on variable name with only index 0 to index 3\n",
    "\n",
    "name[0:4]"
   ]
  },
  {
   "cell_type": "code",
   "execution_count": 14,
   "id": "0ddbb989-eeb1-4bcf-aef2-63cee818e59d",
   "metadata": {},
   "outputs": [
    {
     "data": {
      "text/plain": [
       "'Guar'"
      ]
     },
     "execution_count": 14,
     "metadata": {},
     "output_type": "execute_result"
    }
   ],
   "source": [
    "# Take the slice on variable name with only index 8 to index 11\n",
    "\n",
    "name[8:12]"
   ]
  },
  {
   "cell_type": "markdown",
   "id": "9aef5df3-ef38-40aa-ae87-83ae36019ff3",
   "metadata": {},
   "source": [
    "### Stride\n"
   ]
  },
  {
   "cell_type": "markdown",
   "id": "4042cc01-1e20-419c-968f-bdbaee31e097",
   "metadata": {},
   "source": [
    "We can also input a stride value as follows, with the '2' indicating that we are selecting every second variable:\n"
   ]
  },
  {
   "cell_type": "markdown",
   "id": "e711f2c3-bd13-42a5-891b-1717767be6ba",
   "metadata": {},
   "source": [
    "<img src=\"https://cf-courses-data.s3.us.cloud-object-storage.appdomain.cloud/SaORQ3bZLArgeix_9-jjRQ/IMG4.png\" width=\"600\" align=\"center\">\n"
   ]
  },
  {
   "cell_type": "code",
   "execution_count": 15,
   "id": "e8494516-d1b6-4606-9207-b880c38a3b39",
   "metadata": {},
   "outputs": [
    {
     "data": {
      "text/plain": [
       "'TeBdGad'"
      ]
     },
     "execution_count": 15,
     "metadata": {},
     "output_type": "execute_result"
    }
   ],
   "source": [
    "# Get every second element. The elments on index 0, 2, 4, ...\n",
    "\n",
    "name[::2]"
   ]
  },
  {
   "cell_type": "markdown",
   "id": "e5930741-38f0-4831-ba1c-90f61b3a5ae0",
   "metadata": {},
   "source": [
    "We can also incorporate slicing  with the stride. In this case, we select the first five elements and then use the stride:\n"
   ]
  },
  {
   "cell_type": "code",
   "execution_count": 16,
   "id": "92d82a73-a5ee-4d55-9dc2-29edf6d301e1",
   "metadata": {},
   "outputs": [
    {
     "data": {
      "text/plain": [
       "'TeB'"
      ]
     },
     "execution_count": 16,
     "metadata": {},
     "output_type": "execute_result"
    }
   ],
   "source": [
    "# Get every second element in the range from index 0 to index 4\n",
    "\n",
    "name[0:5:2]"
   ]
  },
  {
   "cell_type": "markdown",
   "id": "0926137f-3b1e-4f79-859e-09b9395b0ed1",
   "metadata": {},
   "source": [
    "### Concatenate Strings\n"
   ]
  },
  {
   "cell_type": "markdown",
   "id": "63c33b5c-5459-4a19-9959-66c95a4784e7",
   "metadata": {},
   "source": [
    "We can concatenate or combine strings by using the addition symbols, and the result is a new string that is a combination of both:\n"
   ]
  },
  {
   "cell_type": "code",
   "execution_count": 17,
   "id": "fb8833ad-28eb-4de5-8480-faad9b571875",
   "metadata": {},
   "outputs": [
    {
     "data": {
      "text/plain": [
       "'The BodyGuard is the best album'"
      ]
     },
     "execution_count": 17,
     "metadata": {},
     "output_type": "execute_result"
    }
   ],
   "source": [
    "# Concatenate two strings\n",
    "\n",
    "statement = name + \" is the best album\"\n",
    "statement"
   ]
  },
  {
   "cell_type": "markdown",
   "id": "23dce6e5-22a7-40e5-9324-f47353f06c45",
   "metadata": {},
   "source": [
    "To replicate values of a string we simply multiply the string by the number of times we would like to replicate it. In this case, the number is three. The result is a new string, and this new string consists of three copies of the original string:\n"
   ]
  },
  {
   "cell_type": "code",
   "execution_count": 18,
   "id": "777cb7bf-c9e2-48d2-9c02-49e4ea7ca82d",
   "metadata": {},
   "outputs": [
    {
     "data": {
      "text/plain": [
       "'The BodyGuardThe BodyGuardThe BodyGuard'"
      ]
     },
     "execution_count": 18,
     "metadata": {},
     "output_type": "execute_result"
    }
   ],
   "source": [
    "# Print the string for 3 times\n",
    "\n",
    "3 * \"The BodyGuard\""
   ]
  },
  {
   "cell_type": "markdown",
   "id": "ede287f3-e5c9-438d-bc41-2ab9b27dd035",
   "metadata": {},
   "source": [
    "You can create a new string by setting it to the original variable. Concatenated  with a new string, the result is a new string that changes from The BodyGuard to “The BodyGuard is the best album\".\n"
   ]
  },
  {
   "cell_type": "code",
   "execution_count": 19,
   "id": "850a828a-c791-4af5-9c20-f0be054c9c6d",
   "metadata": {},
   "outputs": [
    {
     "data": {
      "text/plain": [
       "'The BodyGuard is the best album'"
      ]
     },
     "execution_count": 19,
     "metadata": {},
     "output_type": "execute_result"
    }
   ],
   "source": [
    "# Concatenate strings\n",
    "\n",
    "name = \"The BodyGuard\"\n",
    "name = name + \" is the best album\"\n",
    "name"
   ]
  },
  {
   "cell_type": "markdown",
   "id": "92b98971-3865-4b0e-bf17-d5e4518e0be3",
   "metadata": {},
   "source": [
    "<hr>\n"
   ]
  },
  {
   "cell_type": "markdown",
   "id": "a5bb6635-4e9f-4e40-badb-b1551a1f5b06",
   "metadata": {},
   "source": [
    "## Escape Sequences\n"
   ]
  },
  {
   "cell_type": "markdown",
   "id": "51638564-577e-46c4-a5c1-206ffa26b1b0",
   "metadata": {},
   "source": [
    "Back slashes represent the beginning  of escape sequences. Escape sequences represent strings that may be difficult to input. For example, back slash \"n\" represents a new line. The output is given by a new line after the back slash \"n\" is encountered:\n"
   ]
  },
  {
   "cell_type": "code",
   "execution_count": 20,
   "id": "9f6fadb7-ac96-4456-95e7-458e8a8f32ac",
   "metadata": {},
   "outputs": [
    {
     "name": "stdout",
     "output_type": "stream",
     "text": [
      " The BodyGuard\n",
      " is the best album\n"
     ]
    }
   ],
   "source": [
    "# New line escape sequence\n",
    "\n",
    "print(\" The BodyGuard\\n is the best album\" )"
   ]
  },
  {
   "cell_type": "markdown",
   "id": "62ae2957-1cae-4312-a4f1-23c235bbe8be",
   "metadata": {},
   "source": [
    "Similarly, back slash  \"t\" represents a tab:\n"
   ]
  },
  {
   "cell_type": "code",
   "execution_count": 21,
   "id": "d686561a-8780-4af6-aea5-23f1c18e7f01",
   "metadata": {},
   "outputs": [
    {
     "name": "stdout",
     "output_type": "stream",
     "text": [
      " The BodyGuard \t is the best album\n"
     ]
    }
   ],
   "source": [
    "# Tab escape sequence\n",
    "\n",
    "print(\" The BodyGuard \\t is the best album\" )"
   ]
  },
  {
   "cell_type": "markdown",
   "id": "ab315acd-2eeb-497c-aba0-a37f184be101",
   "metadata": {},
   "source": [
    "If you want to place a back slash in your string, use a double back slash:\n"
   ]
  },
  {
   "cell_type": "code",
   "execution_count": 22,
   "id": "821d7513-e8e8-4237-a38e-3c3a2678a123",
   "metadata": {},
   "outputs": [
    {
     "name": "stdout",
     "output_type": "stream",
     "text": [
      " The BodyGuard \\ is the best album\n"
     ]
    }
   ],
   "source": [
    "# Include back slash in string\n",
    "\n",
    "print(\" The BodyGuard \\\\ is the best album\" )"
   ]
  },
  {
   "cell_type": "markdown",
   "id": "3dcd9f57-302c-4426-bccd-20f7a7428621",
   "metadata": {},
   "source": [
    "We can also place an \"r\" before the string to display the backslash:\n"
   ]
  },
  {
   "cell_type": "code",
   "execution_count": 23,
   "id": "19c92ac7-8021-4421-abcb-f403b82243a2",
   "metadata": {},
   "outputs": [
    {
     "name": "stdout",
     "output_type": "stream",
     "text": [
      " The BodyGuard \\ is the best album\n"
     ]
    }
   ],
   "source": [
    "# r will tell python that string will be display as raw string\n",
    "\n",
    "print(r\" The BodyGuard \\ is the best album\" )"
   ]
  },
  {
   "cell_type": "markdown",
   "id": "e2dbcf10-8c08-4335-8d61-b7e26ef6e4b4",
   "metadata": {},
   "source": [
    "<hr>\n"
   ]
  },
  {
   "cell_type": "markdown",
   "id": "5e4a63bd-5a40-4435-8146-d744e1240381",
   "metadata": {},
   "source": [
    "## String Manipulation Operations\n"
   ]
  },
  {
   "cell_type": "markdown",
   "id": "63f7aa15-fbba-4ecf-9505-7efa96782969",
   "metadata": {},
   "source": [
    "There are many string operation methods in Python that can be used to manipulate the data. We are going to use some basic string operations on the data.\n"
   ]
  },
  {
   "cell_type": "markdown",
   "id": "04650949-133f-4bc0-bab0-0bae7875b0e0",
   "metadata": {},
   "source": [
    "Let's try with the method <code>upper</code>; this method converts lower case characters to upper case characters:\n"
   ]
  },
  {
   "cell_type": "code",
   "execution_count": 24,
   "id": "12f58564-7a4f-4746-81cb-09b923a98c5a",
   "metadata": {},
   "outputs": [
    {
     "name": "stdout",
     "output_type": "stream",
     "text": [
      "before upper: Thriller is the sixth studio album\n",
      "After upper: THRILLER IS THE SIXTH STUDIO ALBUM\n"
     ]
    }
   ],
   "source": [
    "# Convert all the characters in string to upper case\n",
    "\n",
    "a = \"Thriller is the sixth studio album\"\n",
    "print(\"before upper:\", a)\n",
    "b = a.upper()\n",
    "print(\"After upper:\", b)"
   ]
  },
  {
   "cell_type": "markdown",
   "id": "44a4246b-3d35-433c-b630-fa5135151085",
   "metadata": {},
   "source": [
    "The method <code>replace</code> replaces a segment of the string, i.e. a substring  with a new string. We input the part of the string we would like to change. The second argument is what we would like to exchange the segment with, and the result is a new string with the segment changed:\n"
   ]
  },
  {
   "cell_type": "code",
   "execution_count": 25,
   "id": "d7b2fd10-dc47-4867-9152-69ee5f8355e4",
   "metadata": {},
   "outputs": [
    {
     "data": {
      "text/plain": [
       "'The Janet is the best album'"
      ]
     },
     "execution_count": 25,
     "metadata": {},
     "output_type": "execute_result"
    }
   ],
   "source": [
    "# Replace the old substring with the new target substring is the segment has been found in the string\n",
    "\n",
    "a = \"The BodyGuard is the best album\"\n",
    "b = a.replace('BodyGuard', 'Janet')\n",
    "b"
   ]
  },
  {
   "cell_type": "markdown",
   "id": "b2062029-8376-4238-a5e4-8aaaef84fcaa",
   "metadata": {},
   "source": [
    "The method <code>find</code> finds a sub-string. The argument is the substring you would like to find, and the output is the first index of the sequence. We can find the sub-string <code>he</code> or <code>Guard<code>.\n"
   ]
  },
  {
   "cell_type": "markdown",
   "id": "48f70eaa-4908-4840-a3b7-a7583768bd4d",
   "metadata": {},
   "source": [
    "<img src=\"https://cf-courses-data.s3.us.cloud-object-storage.appdomain.cloud/eK6pP3xD4kLWk2vri9KA5A/IMG5.png\" width=\"600\" align=\"center\">\n"
   ]
  },
  {
   "cell_type": "code",
   "execution_count": 26,
   "id": "d0457c56-15c9-4de7-9f9e-403fd8f8ee8d",
   "metadata": {},
   "outputs": [
    {
     "data": {
      "text/plain": [
       "1"
      ]
     },
     "execution_count": 26,
     "metadata": {},
     "output_type": "execute_result"
    }
   ],
   "source": [
    "# Find the substring in the string. Only the index of the first elment of substring in string will be the output\n",
    "\n",
    "name = \"The BodyGuard\"\n",
    "name.find('he')"
   ]
  },
  {
   "cell_type": "code",
   "execution_count": 27,
   "id": "44f5b4bc-dd70-4354-8c3f-618ec60fd67c",
   "metadata": {},
   "outputs": [
    {
     "data": {
      "text/plain": [
       "8"
      ]
     },
     "execution_count": 27,
     "metadata": {},
     "output_type": "execute_result"
    }
   ],
   "source": [
    "# Find the substring in the string.\n",
    "\n",
    "name.find('Guard')"
   ]
  },
  {
   "cell_type": "markdown",
   "id": "b7a4d388-d9ec-4502-a641-ed298459b440",
   "metadata": {},
   "source": [
    "If the  sub-string is not in the string then the output is a negative one. For example, the string 'Jasdfasdasdf' is not a substring:\n"
   ]
  },
  {
   "cell_type": "code",
   "execution_count": 28,
   "id": "401bb498-6a0c-45be-a446-5ae60ece1594",
   "metadata": {},
   "outputs": [
    {
     "data": {
      "text/plain": [
       "-1"
      ]
     },
     "execution_count": 28,
     "metadata": {},
     "output_type": "execute_result"
    }
   ],
   "source": [
    "# If cannot find the substring in the string\n",
    "\n",
    "name.find('Jasdfasdasdf')"
   ]
  },
  {
   "cell_type": "markdown",
   "id": "f4f9069c-f815-439d-aa28-f7c09886231a",
   "metadata": {},
   "source": [
    "The method <code>Split</code> splits the string at the specified separator, and returns a list.\n",
    "\n",
    "**Syntax**\n",
    "\n",
    "<code>string.split(separator, maxsplit)</code>\n",
    "\n",
    "**Parameters**\n",
    "- separator (optional): This is the delimiter at which the string will be split. If not provided, the default separator is any whitespace.\n",
    "- maxsplit (optional): This specifies the maximum number of splits to perform. If not provided, there is no limit on the number of splits.\n",
    "\n",
    "**Return Value**:\n",
    "\n",
    "The method returns a list of substrings.\n"
   ]
  },
  {
   "cell_type": "code",
   "execution_count": 29,
   "id": "06a15ada-080c-40bb-9184-f516f5fdfdde",
   "metadata": {},
   "outputs": [
    {
     "data": {
      "text/plain": [
       "['The', 'BodyGuard']"
      ]
     },
     "execution_count": 29,
     "metadata": {},
     "output_type": "execute_result"
    }
   ],
   "source": [
    "#Split the substring into list\n",
    "name = \"The BodyGuard\"\n",
    "split_string = (name.split())\n",
    "split_string"
   ]
  },
  {
   "cell_type": "markdown",
   "id": "f93c9f56-ae8b-4f85-8dbd-c3803938153b",
   "metadata": {},
   "source": [
    "<hr>\n"
   ]
  },
  {
   "cell_type": "markdown",
   "id": "96ef5e63-3dc9-4b89-a10a-56760eac4517",
   "metadata": {},
   "source": [
    "## RegEx\n"
   ]
  },
  {
   "cell_type": "markdown",
   "id": "aa3fd24d-2e88-48ce-a21b-a083e21bedcc",
   "metadata": {},
   "source": [
    "In Python, RegEx (short for Regular Expression) is a tool for matching and handling strings. \n"
   ]
  },
  {
   "cell_type": "markdown",
   "id": "89e1b487-675c-4c99-9e37-4048737a01d1",
   "metadata": {},
   "source": [
    "This RegEx module provides several functions for working with regular expressions, including <code>search, split, findall,</code> and <code>sub</code>. \n"
   ]
  },
  {
   "cell_type": "markdown",
   "id": "e44e646c-661d-40b3-89c2-3d47c2b55ea7",
   "metadata": {},
   "source": [
    "Python provides a built-in module called <code>re</code>, which allows you to work with regular expressions. \n",
    "First, import the <code>re</code> module\n"
   ]
  },
  {
   "cell_type": "code",
   "execution_count": 30,
   "id": "865bd1e4-eda5-48f1-954d-225b67b4ffd0",
   "metadata": {},
   "outputs": [],
   "source": [
    "import re"
   ]
  },
  {
   "cell_type": "markdown",
   "id": "af76d74c-f20d-4a8b-8f68-98c2243d705b",
   "metadata": {},
   "source": [
    "The search() function searches for specified patterns within a string. Here is an example that explains how to use the search() function to search for the word \"Body\" in the string \"The BodyGuard is the best\".\n"
   ]
  },
  {
   "cell_type": "code",
   "execution_count": 31,
   "id": "54bdacc2-6c0b-4ff9-ad60-89a35839662d",
   "metadata": {},
   "outputs": [
    {
     "name": "stdout",
     "output_type": "stream",
     "text": [
      "Match found!\n"
     ]
    }
   ],
   "source": [
    "s1 = \"The BodyGuard is the best album\"\n",
    "\n",
    "# Define the pattern to search for\n",
    "pattern = r\"Body\"\n",
    "\n",
    "# Use the search() function to search for the pattern in the string\n",
    "result = re.search(pattern, s1)\n",
    "\n",
    "# Check if a match was found\n",
    "if result:\n",
    "    print(\"Match found!\")\n",
    "else:\n",
    "    print(\"Match not found.\")\n"
   ]
  },
  {
   "cell_type": "markdown",
   "id": "4a234d59-df9a-4ed9-ae62-f6fcacd7c27b",
   "metadata": {},
   "source": [
    "Regular expressions (RegEx) are patterns used to match and manipulate strings of text. There are several special sequences in RegEx that can be used to match specific characters or patterns.\n",
    "\n",
    "| Special Sequence | Meaning                 | \tExample             |\n",
    "| -----------  | ----------------------- | ----------------------|\n",
    "| \\d|Matches any digit character (0-9)|\"123\" matches \"\\d\\d\\d\"|\n",
    "|\\D|Matches any non-digit character|\"hello\" matches \"\\D\\D\\D\\D\\D\"|\n",
    "|\\w|Matches any word character (a-z, A-Z, 0-9, and _)|\"hello_world\" matches \"\\w\\w\\w\\w\\w\\w\\w\\w\\w\\w\\w\"|\n",
    "|\\W|Matches any non-word character|\t\"@#$%\" matches \"\\W\\W\\W\\W\"|\n",
    "|\\s|Matches any whitespace character (space, tab, newline, etc.)|\"hello world\" matches \"\\w\\w\\w\\w\\w\\s\\w\\w\\w\\w\\w\"|\n",
    "|\\S|Matches any non-whitespace character|\"hello_world\" matches \"\\S\\S\\S\\S\\S\\S\\S\\S\\S\"|\n",
    "|\\b|Matches the boundary between a word character and a non-word character|\"cat\" matches \"\\bcat\\b\" in \"The cat sat on the mat\"|\n",
    "|\\B|Matches any position that is not a word boundary|\"cat\" matches \"\\Bcat\\B\" in \"category\" but not in \"The cat sat on the mat\"|\n"
   ]
  },
  {
   "cell_type": "markdown",
   "id": "a1902a25-1c56-4830-bb50-c3209779cd02",
   "metadata": {},
   "source": [
    "Special Sequence Examples:\n",
    "\n",
    "A simple example of using the <code>\\d</code> special sequence in a regular expression pattern with Python code:\n"
   ]
  },
  {
   "cell_type": "code",
   "execution_count": 32,
   "id": "8810050d-8e09-4efc-a233-2f719c4375d0",
   "metadata": {},
   "outputs": [
    {
     "name": "stdout",
     "output_type": "stream",
     "text": [
      "Phone number found: 1234567890\n"
     ]
    }
   ],
   "source": [
    "pattern = r\"\\d\\d\\d\\d\\d\\d\\d\\d\\d\\d\"  # Matches any ten consecutive digits\n",
    "text = \"My Phone number is 1234567890\"\n",
    "match = re.search(pattern, text)\n",
    "\n",
    "if match:\n",
    "    print(\"Phone number found:\", match.group())\n",
    "else:\n",
    "    print(\"No match\")"
   ]
  },
  {
   "cell_type": "markdown",
   "id": "bdfb9a1a-b12f-4e84-8438-f0b7d5423505",
   "metadata": {},
   "source": [
    "The match.group() method is used in Python's re module to retrieve the part of the string where the regular expression pattern matched. Here's a detailed explanation:\n",
    "\n",
    "**Purpose**\n",
    "- Extract Matched Text: match.group() returns the exact substring that matched the pattern.\n",
    " \n",
    "**Usage**\n",
    "- When you use functions like re.search() or re.match(), they return a match object if the pattern is found. You can then use match.group() to get the matched text.\n",
    "\n",
    "Here `match.group()` retrieves the substring 1234567890 from the text, which is the part that matched the pattern.\n"
   ]
  },
  {
   "cell_type": "markdown",
   "id": "071b741a-0fa2-4577-a71d-63950663c597",
   "metadata": {},
   "source": [
    "The regular expression pattern is defined as r\"\\d\\d\\d\\d\\d\\d\\d\\d\\d\\d\", which uses the \\d special sequence to match any digit character (0-9), and the \\d sequence is repeated ten times to match ten consecutive digits\n"
   ]
  },
  {
   "cell_type": "markdown",
   "id": "77fc833d-1582-4e58-b66e-d7ebc35f409c",
   "metadata": {},
   "source": [
    "A simple example of using the <code>\\W</code> special sequence in a regular expression pattern with Python code:\n"
   ]
  },
  {
   "cell_type": "code",
   "execution_count": 33,
   "id": "f2f88692-248e-4c18-8dde-fb39ab486beb",
   "metadata": {},
   "outputs": [
    {
     "name": "stdout",
     "output_type": "stream",
     "text": [
      "Matches: [',', ' ', '!']\n"
     ]
    }
   ],
   "source": [
    "pattern = r\"\\W\"  # Matches any non-word character\n",
    "text = \"Hello, world!\"\n",
    "matches = re.findall(pattern, text)\n",
    "\n",
    "print(\"Matches:\", matches)"
   ]
  },
  {
   "cell_type": "markdown",
   "id": "dcbd2fca-f923-4f55-94e2-a2f6ce7b40e9",
   "metadata": {},
   "source": [
    "The regular expression pattern is defined as r\"\\W\", which uses the \\W special sequence to match any character that is not a word character (a-z, A-Z, 0-9, or _). The string we're searching for matches in is \"Hello, world!\".\n"
   ]
  },
  {
   "cell_type": "markdown",
   "id": "7f765b8f-6d6e-45a0-b7ca-52d37a235bbf",
   "metadata": {},
   "source": [
    "The <code>findall()</code> function finds all occurrences of a specified pattern within a string.\n"
   ]
  },
  {
   "cell_type": "code",
   "execution_count": 34,
   "id": "dac25f5c-0ca4-4162-a128-9dd885e73b74",
   "metadata": {},
   "outputs": [
    {
     "name": "stdout",
     "output_type": "stream",
     "text": [
      "['st', 'st']\n"
     ]
    }
   ],
   "source": [
    "s2 = \"The BodyGuard is the best album of 'Whitney Houston'.\"\n",
    "\n",
    "\n",
    "# Use the findall() function to find all occurrences of the \"st\" in the string\n",
    "result = re.findall(\"st\", s2)\n",
    "\n",
    "# Print out the list of matched words\n",
    "print(result)\n"
   ]
  },
  {
   "cell_type": "markdown",
   "id": "9a202958-6441-4be8-aa97-ef3be57f2068",
   "metadata": {},
   "source": [
    "A regular expression's <code>split()</code> function splits a string into an array of substrings based on a specified pattern.\n"
   ]
  },
  {
   "cell_type": "code",
   "execution_count": 35,
   "id": "601d8da9-5337-4a0b-9962-bfbb5e6d919d",
   "metadata": {},
   "outputs": [
    {
     "name": "stdout",
     "output_type": "stream",
     "text": [
      "['The', 'BodyGuard', 'is', 'the', 'best', 'album', 'of', \"'Whitney\", \"Houston'.\"]\n"
     ]
    }
   ],
   "source": [
    "# Use the split function to split the string by the \"\\s\"\n",
    "split_array = re.split(r\"\\s\", s2)\n",
    "\n",
    "# The split_array contains all the substrings, split by whitespace characters\n",
    "print(split_array)"
   ]
  },
  {
   "cell_type": "markdown",
   "id": "5865e863-17ca-4ab7-b622-b1e3f1519204",
   "metadata": {},
   "source": [
    "Here's a detailed explanation: \n",
    "\n",
    "<code>re.split(\"\\s\", s2)</code>:\n",
    "\n",
    "**re.split**: This function splits a string by the occurrences of a pattern.\n",
    "- **r\"\\s\"**: This is a regular expression pattern that matches any whitespace character (spaces, tabs, newlines, etc.).\n",
    "- **s2**: This is the string that you want to split.\n"
   ]
  },
  {
   "cell_type": "markdown",
   "id": "c9cafd9d-d544-4d47-b9d4-68ff13ff7200",
   "metadata": {},
   "source": [
    "The <code>sub</code> function of a regular expression in Python is used to replace all occurrences of a pattern in a string with a specified replacement.\n"
   ]
  },
  {
   "cell_type": "code",
   "execution_count": 36,
   "id": "b1150559-584c-4731-872d-6b8b866a83d4",
   "metadata": {},
   "outputs": [
    {
     "name": "stdout",
     "output_type": "stream",
     "text": [
      "The BodyGuard is the best album of 'legend'.\n"
     ]
    }
   ],
   "source": [
    "# Define the regular expression pattern to search for\n",
    "pattern = r\"Whitney Houston\"\n",
    "\n",
    "# Define the replacement string\n",
    "replacement = \"legend\"\n",
    "\n",
    "# Use the sub function to replace the pattern with the replacement string\n",
    "new_string = re.sub(pattern, replacement, s2, flags=re.IGNORECASE)\n",
    "\n",
    "# The new_string contains the original string with the pattern replaced by the replacement string\n",
    "print(new_string) "
   ]
  },
  {
   "cell_type": "markdown",
   "id": "54bab39e-ad2d-4147-9e5d-820271c1efff",
   "metadata": {},
   "source": [
    "<hr>\n"
   ]
  },
  {
   "cell_type": "markdown",
   "id": "8edecf4c-b46a-44e9-851d-4c19a3f12621",
   "metadata": {},
   "source": [
    "<h2 id=\"quiz\">Quiz on Strings</h2>\n"
   ]
  },
  {
   "cell_type": "markdown",
   "id": "a00a5f5a-2bbb-43b4-9db7-e80b14d87313",
   "metadata": {},
   "source": [
    "What is the value of the variable <code>a</code> after the following code is executed?\n"
   ]
  },
  {
   "cell_type": "code",
   "execution_count": 40,
   "id": "84049061-4e49-4cf6-aed2-961c4a2f5815",
   "metadata": {},
   "outputs": [
    {
     "data": {
      "text/plain": [
       "'1'"
      ]
     },
     "execution_count": 40,
     "metadata": {},
     "output_type": "execute_result"
    }
   ],
   "source": [
    "# Write your code below and press Shift+Enter to execute \n",
    "\n",
    "a = \"1\"\n",
    "a\n"
   ]
  },
  {
   "cell_type": "markdown",
   "id": "530113e9-68b4-482e-a1d9-622dc287da62",
   "metadata": {},
   "source": [
    "<details><summary>Click here for the solution</summary>\n",
    "\n",
    "```python\n",
    "\"1\"\n",
    "\n",
    "```\n",
    "\n",
    "</details>\n"
   ]
  },
  {
   "cell_type": "markdown",
   "id": "cf52782b-1e57-455f-9d6b-25eaf53e0258",
   "metadata": {},
   "source": [
    "What is the value of the variable <code>b</code> after the following code is executed?\n"
   ]
  },
  {
   "cell_type": "code",
   "execution_count": 39,
   "id": "9c1d880f-3a7f-4cbf-ad04-6b607dd2a747",
   "metadata": {},
   "outputs": [
    {
     "data": {
      "text/plain": [
       "'2'"
      ]
     },
     "execution_count": 39,
     "metadata": {},
     "output_type": "execute_result"
    }
   ],
   "source": [
    "# Write your code below and press Shift+Enter to execute\n",
    "\n",
    "b = \"2\"\n",
    "b"
   ]
  },
  {
   "cell_type": "markdown",
   "id": "7a428884-5b80-4d8d-a5d8-757e45cbf7a1",
   "metadata": {},
   "source": [
    "<details><summary>Click here for the solution</summary>\n",
    "\n",
    "```python\n",
    "\"2\"\n",
    "\n",
    "```\n",
    "\n",
    "</details>\n"
   ]
  },
  {
   "cell_type": "markdown",
   "id": "55de1c20-164d-488a-96b9-df1edefc5354",
   "metadata": {},
   "source": [
    "What is the value of the variable <code>c</code> after the following code is executed?\n"
   ]
  },
  {
   "cell_type": "code",
   "execution_count": 41,
   "id": "bccddb30-22a9-4d59-bf77-5908ede13c4f",
   "metadata": {},
   "outputs": [
    {
     "data": {
      "text/plain": [
       "'12'"
      ]
     },
     "execution_count": 41,
     "metadata": {},
     "output_type": "execute_result"
    }
   ],
   "source": [
    "# Write your code below and press Shift+Enter to execute \n",
    "\n",
    "c = a + b\n",
    "c\n"
   ]
  },
  {
   "cell_type": "markdown",
   "id": "5e36970c-1038-481c-93a7-5abfcd696c1b",
   "metadata": {},
   "source": [
    "<details><summary>Click here for the solution</summary>\n",
    "\n",
    "```python\n",
    "\"12\"\n",
    "\n",
    "```\n",
    "\n",
    "</details>\n"
   ]
  },
  {
   "cell_type": "markdown",
   "id": "48c51b94-45be-47f8-b429-8a4e43a76fa0",
   "metadata": {},
   "source": [
    "<hr>\n"
   ]
  },
  {
   "cell_type": "markdown",
   "id": "0dc120ac-66f9-4492-b493-a20e42dbeb74",
   "metadata": {},
   "source": [
    "Consider the variable <code>d</code> use slicing to print out the first three elements:\n"
   ]
  },
  {
   "cell_type": "code",
   "execution_count": 43,
   "id": "80da5af9-8963-4723-964c-335a49bc7513",
   "metadata": {},
   "outputs": [
    {
     "name": "stdout",
     "output_type": "stream",
     "text": [
      "ABC\n"
     ]
    }
   ],
   "source": [
    "# Write your code below and press Shift+Enter to execute\n",
    "\n",
    "d = \"ABCDEFG\"\n",
    "print(d[0:3])  # Slicing the string to get the first three characters\n",
    "\n"
   ]
  },
  {
   "cell_type": "markdown",
   "id": "5d3ac18e-93e8-4629-910b-fa004830012b",
   "metadata": {},
   "source": [
    "<details><summary>Click here for the solution</summary>\n",
    "\n",
    "```python\n",
    "print(d[:3]) \n",
    "\n",
    "# or \n",
    "\n",
    "print(d[0:3])\n",
    "\n",
    "```\n",
    "\n",
    "</details>\n"
   ]
  },
  {
   "cell_type": "markdown",
   "id": "12d341e4-39bd-4355-8f6e-34e5e70308e6",
   "metadata": {},
   "source": [
    "<hr>\n"
   ]
  },
  {
   "cell_type": "markdown",
   "id": "60a255aa-4073-4c1d-ad08-67add7a98d98",
   "metadata": {},
   "source": [
    "Use a stride value of 2 to print out every second character of the string <code>e</code>:\n"
   ]
  },
  {
   "cell_type": "code",
   "execution_count": 44,
   "id": "5cfc0969-e394-4d33-9e4d-1b700066a36b",
   "metadata": {},
   "outputs": [
    {
     "name": "stdout",
     "output_type": "stream",
     "text": [
      "correct\n"
     ]
    }
   ],
   "source": [
    "# Write your code below and press Shift+Enter to execute\n",
    "\n",
    "e = 'clocrkr1e1c1t'\n",
    "print(e[::2])  # Slicing the string to get the first five characters\n"
   ]
  },
  {
   "cell_type": "markdown",
   "id": "92e61b97-2e38-449b-b92d-db750420de69",
   "metadata": {},
   "source": [
    "<details><summary>Click here for the solution</summary>\n",
    "\n",
    "```python\n",
    "print(e[::2])\n",
    "\n",
    "```\n",
    "\n",
    "</details>\n"
   ]
  },
  {
   "cell_type": "markdown",
   "id": "b4f097d3-2a89-45fb-bd23-d66e1d94392b",
   "metadata": {},
   "source": [
    "<hr>\n"
   ]
  },
  {
   "cell_type": "markdown",
   "id": "d4847c70-fbe0-47fb-a98b-b80b5e7aad8b",
   "metadata": {},
   "source": [
    "Print out a backslash:\n"
   ]
  },
  {
   "cell_type": "code",
   "execution_count": 46,
   "id": "5bd77c78-8fd8-48b6-b20d-e97fc676d68b",
   "metadata": {},
   "outputs": [
    {
     "name": "stdout",
     "output_type": "stream",
     "text": [
      "\\\\\\\\\\\\\n"
     ]
    }
   ],
   "source": [
    "# Write your code below and press Shift+Enter to execute\n",
    "print(\"\\\\\\\\\\\\\\\\\\\\\\\\\")"
   ]
  },
  {
   "cell_type": "markdown",
   "id": "2207ca28-c037-4eb9-b960-3544adc82e73",
   "metadata": {},
   "source": [
    "<details><summary>Click here for the solution</summary>\n",
    "\n",
    "```python\n",
    "print(\"\\\\\\\\\\\\\\\\\\\\\\\\\\\\\\\\\")\n",
    "\n",
    "or\n",
    "\n",
    "print(r\"\\\\\")\n",
    "\n",
    "```\n",
    "\n",
    "</details>\n"
   ]
  },
  {
   "cell_type": "markdown",
   "id": "fe8e899b-6725-4c4f-8a59-0e116e2fcf14",
   "metadata": {},
   "source": [
    "<hr>\n"
   ]
  },
  {
   "cell_type": "markdown",
   "id": "e908d5e5-c9ba-41f4-9ba8-b77acc15f4ce",
   "metadata": {},
   "source": [
    "Convert the variable <code>f</code> to uppercase:\n"
   ]
  },
  {
   "cell_type": "code",
   "execution_count": 47,
   "id": "4105a32a-c79b-466e-ae46-b5b92783e680",
   "metadata": {},
   "outputs": [
    {
     "data": {
      "text/plain": [
       "'YOU ARE WRONG'"
      ]
     },
     "execution_count": 47,
     "metadata": {},
     "output_type": "execute_result"
    }
   ],
   "source": [
    "# Write your code below and press Shift+Enter to execute\n",
    "\n",
    "f = \"You are wrong\"\n",
    "f.upper()  # Convert the string to uppercase"
   ]
  },
  {
   "cell_type": "markdown",
   "id": "5568b80a-9765-4acb-a90d-563a9a62c820",
   "metadata": {},
   "source": [
    "<details><summary>Click here for the solution</summary>\n",
    "\n",
    "```python\n",
    "f.upper()\n",
    "\n",
    "```\n",
    "\n",
    "</details>\n"
   ]
  },
  {
   "cell_type": "markdown",
   "id": "34b7f1d5-9742-4f1b-a7c0-eaa667fc285e",
   "metadata": {},
   "source": [
    "Convert the variable <code>f2</code> to lowercase:\n"
   ]
  },
  {
   "cell_type": "code",
   "execution_count": 48,
   "id": "900e370d-f335-469e-aba1-9f8e8f4689d9",
   "metadata": {},
   "outputs": [
    {
     "data": {
      "text/plain": [
       "'you are right'"
      ]
     },
     "execution_count": 48,
     "metadata": {},
     "output_type": "execute_result"
    }
   ],
   "source": [
    "# Write your code below and press Shift+Enter to execute\n",
    "f2=\"YOU ARE RIGHT\"\n",
    "f2.lower()  # Convert the string to lowercase"
   ]
  },
  {
   "cell_type": "markdown",
   "id": "8987845a-a91d-47ad-88fe-34aa8b93960b",
   "metadata": {},
   "source": [
    "<details><summary>Click here for the solution</summary>\n",
    "\n",
    "```python\n",
    "f2.lower()\n",
    "\n",
    "```\n",
    "\n",
    "</details>\n"
   ]
  },
  {
   "cell_type": "markdown",
   "id": "b231a3b2-3e12-4402-a6d6-4ebc83ab3a49",
   "metadata": {},
   "source": [
    "<hr>\n"
   ]
  },
  {
   "cell_type": "markdown",
   "id": "17312259-0106-4320-bb80-88b3e90564fc",
   "metadata": {},
   "source": [
    "Consider the variable <code>g</code>, and find the first index of the sub-string <code>snow</code>:\n"
   ]
  },
  {
   "cell_type": "code",
   "execution_count": 49,
   "id": "296c88dc-b492-49b4-a233-d84b3da12b81",
   "metadata": {},
   "outputs": [
    {
     "data": {
      "text/plain": [
       "95"
      ]
     },
     "execution_count": 49,
     "metadata": {},
     "output_type": "execute_result"
    }
   ],
   "source": [
    "# Write your code below and press Shift+Enter to execute\n",
    "\n",
    "g = \"Mary had a little lamb Little lamb, little lamb Mary had a little lamb \\\n",
    "Its fleece was white as snow And everywhere that Mary went Mary went, Mary went \\\n",
    "Everywhere that Mary went The lamb was sure to go\"\n",
    "\n",
    "g.find(\"snow\")"
   ]
  },
  {
   "cell_type": "markdown",
   "id": "17d05df9-b1b4-4ce6-89f1-67ef1399f316",
   "metadata": {},
   "source": [
    "<details><summary>Click here for the solution</summary>\n",
    "\n",
    "```python\n",
    "g.find(\"snow\")\n",
    "\n",
    "```\n",
    "\n",
    "</details>\n"
   ]
  },
  {
   "cell_type": "markdown",
   "id": "8874e283-52aa-46d6-956f-6dde92edadbb",
   "metadata": {},
   "source": [
    "In the variable <code>g</code>, replace the sub-string <code>Mary</code> with <code>Bob</code>:\n"
   ]
  },
  {
   "cell_type": "code",
   "execution_count": 50,
   "id": "9039453b-fe01-4fc4-ad3d-09a40240f387",
   "metadata": {},
   "outputs": [
    {
     "data": {
      "text/plain": [
       "'Bob had a little lamb Little lamb, little lamb Bob had a little lamb Its fleece was white as snow And everywhere that Bob went Bob went, Bob went Everywhere that Bob went The lamb was sure to go'"
      ]
     },
     "execution_count": 50,
     "metadata": {},
     "output_type": "execute_result"
    }
   ],
   "source": [
    "# Write your code below and press Shift+Enter to execute\n",
    "g.replace(\"Mary\", \"Bob\")"
   ]
  },
  {
   "cell_type": "markdown",
   "id": "03dff08b-25b7-45b2-a3f0-a19e793dc871",
   "metadata": {},
   "source": [
    "<details><summary>Click here for the solution</summary>\n",
    "\n",
    "```python\n",
    "g.replace(\"Mary\", \"Bob\")\n",
    "\n",
    "```\n",
    "\n",
    "</details>\n"
   ]
  },
  {
   "cell_type": "markdown",
   "id": "f3020278-7856-4447-ac50-b4e58b236724",
   "metadata": {},
   "source": [
    "In the variable <code>g</code>, replace the sub-string <code>,</code> with <code>.</code>:\n"
   ]
  },
  {
   "cell_type": "code",
   "execution_count": 51,
   "id": "eaed89e2-57a6-42a9-88cb-c60550016070",
   "metadata": {},
   "outputs": [
    {
     "data": {
      "text/plain": [
       "'Mary had a little lamb Little lamb. little lamb Mary had a little lamb Its fleece was white as snow And everywhere that Mary went Mary went. Mary went Everywhere that Mary went The lamb was sure to go'"
      ]
     },
     "execution_count": 51,
     "metadata": {},
     "output_type": "execute_result"
    }
   ],
   "source": [
    "# Write your code below and press Shift+Enter to execute\n",
    "g.replace(',', '.')"
   ]
  },
  {
   "cell_type": "markdown",
   "id": "b6683049-1af7-4d42-94be-e6ab303c43a4",
   "metadata": {},
   "source": [
    "<details><summary>Click here for the solution</summary>\n",
    "\n",
    "```python\n",
    "g.replace(',','.')\n",
    "\n",
    "```\n",
    "\n",
    "</details>\n"
   ]
  },
  {
   "cell_type": "markdown",
   "id": "0ce966a1-838b-4969-9b8f-0337a033b1b9",
   "metadata": {},
   "source": [
    "In the variable <code>g</code>, split the substring to list:\n"
   ]
  },
  {
   "cell_type": "code",
   "execution_count": 53,
   "id": "5d1a5376-1704-4d49-b2b8-7007e2dc254d",
   "metadata": {},
   "outputs": [
    {
     "data": {
      "text/plain": [
       "['Mary',\n",
       " 'had',\n",
       " 'a',\n",
       " 'little',\n",
       " 'lamb',\n",
       " 'Little',\n",
       " 'lamb,',\n",
       " 'little',\n",
       " 'lamb',\n",
       " 'Mary',\n",
       " 'had',\n",
       " 'a',\n",
       " 'little',\n",
       " 'lamb',\n",
       " 'Its',\n",
       " 'fleece',\n",
       " 'was',\n",
       " 'white',\n",
       " 'as',\n",
       " 'snow',\n",
       " 'And',\n",
       " 'everywhere',\n",
       " 'that',\n",
       " 'Mary',\n",
       " 'went',\n",
       " 'Mary',\n",
       " 'went,',\n",
       " 'Mary',\n",
       " 'went',\n",
       " 'Everywhere',\n",
       " 'that',\n",
       " 'Mary',\n",
       " 'went',\n",
       " 'The',\n",
       " 'lamb',\n",
       " 'was',\n",
       " 'sure',\n",
       " 'to',\n",
       " 'go']"
      ]
     },
     "execution_count": 53,
     "metadata": {},
     "output_type": "execute_result"
    }
   ],
   "source": [
    "# Write your code below and press Shift+Enter to execute\n",
    "g.split()\n"
   ]
  },
  {
   "cell_type": "markdown",
   "id": "c44f7c54-c940-4598-b9ba-dc43562660d8",
   "metadata": {},
   "source": [
    "<details><summary>Click here for the solution</summary>\n",
    "\n",
    "```python\n",
    "g.split()\n",
    "\n",
    "```\n",
    "\n",
    "</details>\n"
   ]
  },
  {
   "cell_type": "markdown",
   "id": "7f529d47-44db-4d65-aa81-4ba4cf26deb6",
   "metadata": {},
   "source": [
    "In the string <code>s3</code>, find whether the digit is present or not using the <code>\\d</code> and <code>search() </code>function:\n"
   ]
  },
  {
   "cell_type": "code",
   "execution_count": 54,
   "id": "60fa6d1a-9461-4d8c-a4de-a22cdb49908a",
   "metadata": {},
   "outputs": [
    {
     "name": "stdout",
     "output_type": "stream",
     "text": [
      "Digit found\n"
     ]
    }
   ],
   "source": [
    "s3 = \"House number- 1105\"\n",
    "# Write your code below and press Shift+Enter to execute\n",
    "result = re.search(r\"\\d\", s3)\n",
    "\n",
    "if result:\n",
    "    print(\"Digit found\")\n",
    "else:\n",
    "    print(\"Digit not found\")"
   ]
  },
  {
   "cell_type": "markdown",
   "id": "89393be5-2116-47c0-8d78-b573fef28df7",
   "metadata": {},
   "source": [
    "<details><summary>Click here for the solution</summary>\n",
    "\n",
    "```python\n",
    "# Use the search() function to search for the \"\\d\" in the string\n",
    "result = re.search(r\"\\d\", s3)\n",
    "\n",
    "# Check if a match was found\n",
    "if result:\n",
    "    print(\"Digit found\")\n",
    "else:\n",
    "    print(\"Digit not found.\")\n",
    "```\n",
    "\n",
    "</details>\n"
   ]
  },
  {
   "cell_type": "markdown",
   "id": "0a958521-9b43-44d7-bb7e-ef290fd4bcb6",
   "metadata": {},
   "source": [
    "In the string <code>str1</code>, replace the sub-string <code>fox</code> with <code>bear</code> using <code>sub() </code>function:\n"
   ]
  },
  {
   "cell_type": "code",
   "execution_count": 55,
   "id": "dfcffb3e-5dc5-4533-a8dd-26c5f2989759",
   "metadata": {},
   "outputs": [
    {
     "name": "stdout",
     "output_type": "stream",
     "text": [
      "The quick brown bear jumps over the lazy dog.\n"
     ]
    }
   ],
   "source": [
    "str1= \"The quick brown fox jumps over the lazy dog.\"\n",
    "\n",
    "# Write your code below and press Shift+Enter to execute\n",
    "new_str1 = re.sub(r\"fox\", \"bear\", str1)\n",
    "\n",
    "print(new_str1)  # Output: The quick brown bear jumps over the lazy dog.\n",
    "\n"
   ]
  },
  {
   "cell_type": "markdown",
   "id": "8532de8f-86c5-4ef7-a95f-b87411e1bd7c",
   "metadata": {},
   "source": [
    "<details><summary>Click here for the solution</summary>\n",
    "\n",
    "```python\n",
    "# Use re.sub() to replace \"fox\" with \"bear\"\n",
    "new_str1 = re.sub(r\"fox\", \"bear\", str1)\n",
    "\n",
    "print(new_str1)\n",
    "```\n",
    "\n",
    "</details>\n"
   ]
  },
  {
   "cell_type": "markdown",
   "id": "cc206e4a-b75d-4ad0-ae94-8a0ff3e63dfe",
   "metadata": {},
   "source": [
    "In the string <code>str2</code> find all the occurrences of <code>woo</code> using <code>findall()</code> function:\n"
   ]
  },
  {
   "cell_type": "code",
   "execution_count": 57,
   "id": "45bf2244-20be-429c-85d5-3bac32f975c1",
   "metadata": {},
   "outputs": [
    {
     "name": "stdout",
     "output_type": "stream",
     "text": [
      "[]\n"
     ]
    }
   ],
   "source": [
    "str2= \"How much wood would a woodchuck chuck, if a woodchuck could chuck wood?\"\n",
    "\n",
    "# Write your code below and press Shift+Enter to execute\n",
    "matches = re.findall(r\"woo  \", str2)\n",
    "\n",
    "print(matches)  # Output: ['wood', 'wood', 'wood']\n"
   ]
  },
  {
   "cell_type": "markdown",
   "id": "f68841e9-1d9e-48cd-9c48-d3cc458d9645",
   "metadata": {},
   "source": [
    "<details><summary>Click here for the solution</summary>\n",
    "\n",
    "```python\n",
    "# Use re.findall() to find all occurrences of \"woo\"\n",
    "matches = re.findall(r\"woo\", str2)\n",
    "\n",
    "print(matches)\n",
    "```\n",
    "\n",
    "</details>\n"
   ]
  },
  {
   "cell_type": "code",
   "execution_count": 58,
   "metadata": {},
   "outputs": [
    {
     "data": {
      "text/plain": [
       "6"
      ]
     },
     "execution_count": 58,
     "metadata": {},
     "output_type": "execute_result"
    }
   ],
   "source": [
    "\"hello Mike\".find(\"Mike\")"
   ]
  },
  {
   "cell_type": "markdown",
   "id": "7328b6c5-cf1c-4b15-9975-c260b94cd5d5",
   "metadata": {},
   "source": [
    "<hr>\n",
    "<h2>The last exercise!</h2>\n",
    "<p>Congratulations, you have completed your first lesson and hands-on lab in Python.\n",
    "<hr>\n"
   ]
  },
  {
   "cell_type": "markdown",
   "id": "4b9dd8bd-b378-4389-8307-416e4f02aaeb",
   "metadata": {},
   "source": [
    "## Author\n",
    "\n",
    "<a href=\"https://www.linkedin.com/in/joseph-s-50398b136/?utm_medium=Exinfluencer&utm_source=Exinfluencer&utm_content=000026UJ&utm_term=10006555&utm_id=NA-SkillsNetwork-Channel-SkillsNetworkCoursesIBMDeveloperSkillsNetworkPY0101ENSkillsNetwork19487395-2021-01-01\" target=\"_blank\">Joseph Santarcangelo</a>\n",
    "\n",
    "<img src=\"https://cf-courses-data.s3.us.cloud-object-storage.appdomain.cloud/IBMDeveloperSkillsNetwork-PY0101EN-SkillsNetwork/SNIBMfooter.png\" alt=\"\" width=\"\" height=\"\">\n"
   ]
  }
 ],
 "metadata": {
  "kernelspec": {
   "display_name": "Python 3",
   "language": "python",
   "name": "python3"
  },
  "language_info": {
   "codemirror_mode": {
    "name": "ipython",
    "version": 3
   },
   "file_extension": ".py",
   "mimetype": "text/x-python",
   "name": "python",
   "nbconvert_exporter": "python",
   "pygments_lexer": "ipython3",
   "version": "3.11.9"
  },
  "prev_pub_hash": "6f20119dc3217cc1eb3cd34195e5fde28b7b4d185350d5b3830fb9c9378c2c7d"
 },
 "nbformat": 4,
 "nbformat_minor": 4
}
